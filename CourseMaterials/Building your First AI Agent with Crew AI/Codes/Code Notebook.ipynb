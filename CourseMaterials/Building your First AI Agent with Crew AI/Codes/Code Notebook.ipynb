{
 "cells": [
  {
   "cell_type": "code",
   "execution_count": null,
   "id": "9aaeea5a-e1ed-4d55-a074-331b7b5eeff5",
   "metadata": {},
   "outputs": [],
   "source": [
    "pip install crewai==0.80.0\n"
   ]
  },
  {
   "cell_type": "code",
   "execution_count": null,
   "id": "20404f58-a44e-4382-831d-c330980e97f0",
   "metadata": {},
   "outputs": [],
   "source": [
    "import crewai"
   ]
  },
  {
   "cell_type": "code",
   "execution_count": null,
   "id": "3cef8b48-48ec-4c9c-a7e0-e957cecbbf2b",
   "metadata": {},
   "outputs": [],
   "source": [
    "crewai.__version__"
   ]
  },
  {
   "cell_type": "code",
   "execution_count": 1,
   "id": "82b127d5-ee70-4d53-a863-ef3a4df27e4b",
   "metadata": {},
   "outputs": [],
   "source": [
    "from dotenv import load_dotenv"
   ]
  },
  {
   "cell_type": "code",
   "execution_count": null,
   "id": "7eebc5f7-746b-471c-8fe7-f731a1f65cf5",
   "metadata": {},
   "outputs": [],
   "source": [
    "load_dotenv('/home/santhosh/Projects/courses/Pioneer/.env')"
   ]
  },
  {
   "cell_type": "code",
   "execution_count": 6,
   "id": "b7e56fcc-339e-4d7c-9f56-21db67b3bf6a",
   "metadata": {},
   "outputs": [],
   "source": [
    "from crewai import Agent, Task, Crew, LLM"
   ]
  },
  {
   "cell_type": "code",
   "execution_count": 7,
   "id": "3798bc31-99ac-418b-bba0-8bc7ffa9d5bf",
   "metadata": {},
   "outputs": [],
   "source": [
    "llm = LLM(model=\"gpt-4o-mini\")"
   ]
  },
  {
   "cell_type": "markdown",
   "id": "3e82cb3c-453c-4615-be6b-6b05f2b3cba1",
   "metadata": {},
   "source": [
    "# Recipe Recommendation"
   ]
  },
  {
   "cell_type": "code",
   "execution_count": 6,
   "id": "270c4543-e57b-4da6-b4ae-f1cf54935d79",
   "metadata": {},
   "outputs": [],
   "source": [
    "# User inputs\n",
    "main_ingredient = \"tomato\"\n",
    "dietary_restrictions = \"shrimps\""
   ]
  },
  {
   "cell_type": "code",
   "execution_count": 6,
   "id": "448f43d0-feed-4577-abe5-d042e95c52cd",
   "metadata": {},
   "outputs": [],
   "source": [
    "culinary_assistant = Agent(\n",
    "    llm=llm,\n",
    "    role=\"Culinary Assistant\",\n",
    "    backstory=\"An experienced culinary assistant skilled in finding and tailoring recipes based on ingredients and dietary\"\n",
    "    \"needs, and providing clear, step-by-step cooking instructions\",\n",
    "    goal=\"Find recipes, filter them to meet dietary preferences, and guide user through recipe steps.\",\n",
    "    verbose=True,\n",
    ")"
   ]
  },
  {
   "cell_type": "code",
   "execution_count": 7,
   "id": "3ed8e5b8-84a7-44df-b8ff-e024c8af7aae",
   "metadata": {},
   "outputs": [],
   "source": [
    "find_and_filter_recipes = Task(\n",
    "    description=f\"Find recipes that user the ingredient: {main_ingredient} and\"\n",
    "    f\" filter them to meet dietary restrictions: {dietary_restrictions}.\",\n",
    "    expected_output=f\"One recipe using {main_ingredient} and matching {dietary_restrictions} restrictions.\",\n",
    "    agent=culinary_assistant,\n",
    ")\n",
    "\n",
    "guide_recipe_steps = Task(\n",
    "    description=\"Provide step-by-step instructions for the selected recipe.\",\n",
    "    expected_output=\"Step-by-step cooking instructions for the chosen recipe.\",\n",
    "    agent=culinary_assistant,\n",
    ")\n"
   ]
  },
  {
   "cell_type": "code",
   "execution_count": 8,
   "id": "293503d5-4761-40d4-a150-9553bd47d3d5",
   "metadata": {},
   "outputs": [],
   "source": [
    "crew = Crew(\n",
    "    agents=[culinary_assistant],\n",
    "    tasks=[find_and_filter_recipes, guide_recipe_steps],\n",
    "    planning=True,\n",
    ")"
   ]
  },
  {
   "cell_type": "code",
   "execution_count": null,
   "id": "2577b10c-1c65-4921-9d00-fb4930f1b3ca",
   "metadata": {
    "scrolled": true
   },
   "outputs": [],
   "source": [
    "crew.kickoff()"
   ]
  },
  {
   "cell_type": "code",
   "execution_count": null,
   "id": "a32dfac3-2538-4952-ad7a-a95058f1802f",
   "metadata": {},
   "outputs": [],
   "source": [
    "crew.usage_metrics"
   ]
  },
  {
   "cell_type": "markdown",
   "id": "951abe36-d1be-45b4-893a-1f1891300530",
   "metadata": {},
   "source": [
    "# Marketing Research"
   ]
  },
  {
   "cell_type": "code",
   "execution_count": 8,
   "id": "8cb095a2-69da-4900-b9d5-dc8a71f4a3a2",
   "metadata": {},
   "outputs": [],
   "source": [
    "from crewai import Agent, Task, Crew\n",
    "from crewai_tools import SerperDevTool"
   ]
  },
  {
   "cell_type": "code",
   "execution_count": 9,
   "id": "701c1434-d84f-4dda-8356-deea2fcd032f",
   "metadata": {},
   "outputs": [],
   "source": [
    "product_name = \"energy drink\""
   ]
  },
  {
   "cell_type": "code",
   "execution_count": 10,
   "id": "ead77e18-4164-4d82-b99d-363f7cff102a",
   "metadata": {},
   "outputs": [],
   "source": [
    "strategist_backstory = \"and marketing strategy\""
   ]
  },
  {
   "cell_type": "code",
   "execution_count": 11,
   "id": "cae05753-a7aa-4c92-99cb-5c9c96a1985d",
   "metadata": {},
   "outputs": [],
   "source": [
    "market_researcher = Agent(\n",
    "    role=\"Market Researcher\",\n",
    "    goal=\"Analyze market trends for the product launch\",\n",
    "    backstory=\"Experienced in market trends and consumer behavior analysis\",\n",
    "    tools=[SerperDevTool()],\n",
    "    verbose=True,\n",
    ")\n",
    "\n",
    "strategist = Agent(\n",
    "    role=\"Product Strategist\",\n",
    "    goal=\"Create effective positioning strategies for the product\",\n",
    "    backstory=f\"Skilled in competitive positioning {strategist_backstory}\",\n",
    "    verbose=True,\n",
    ")"
   ]
  },
  {
   "cell_type": "code",
   "execution_count": 12,
   "id": "2d973212-4413-43aa-99b6-2ea7e218fe86",
   "metadata": {},
   "outputs": [],
   "source": [
    "gather_market_insights_task = Task(\n",
    "    description=f\"Browse the internet to gather insights on current market trends for the launch of the {product_name} product.\",\n",
    "    expected_output=f\"List of relevant market trends and consumer preferences, relevant to {product_name}\",\n",
    "    agent=market_researcher,\n",
    ")\n",
    "\n",
    "develop_positioning_strategy_task = Task(\n",
    "    description=\"Based on the market insights,\"\n",
    "                f\"create a positioning strategy for the {product_name} product, including analysis for impact and target audience.\",\n",
    "    expected_output=\"A positioning strategy with target audience and impact notes\",\n",
    "    agent=strategist,\n",
    "    verbose=True,\n",
    ")"
   ]
  },
  {
   "cell_type": "code",
   "execution_count": 13,
   "id": "6f790013-28a1-4951-b6ad-14f1b208ab56",
   "metadata": {},
   "outputs": [],
   "source": [
    "crew = Crew(\n",
    "    agents=[market_researcher, strategist],\n",
    "    tasks=[gather_market_insights_task, develop_positioning_strategy_task],\n",
    "    planning=True,\n",
    ")"
   ]
  },
  {
   "cell_type": "code",
   "execution_count": null,
   "id": "3b51907f-4378-4131-bc2b-dce4cdf29c00",
   "metadata": {
    "scrolled": true
   },
   "outputs": [],
   "source": [
    "output = crew.kickoff()"
   ]
  },
  {
   "cell_type": "code",
   "execution_count": null,
   "id": "bcf8935c-1851-4b0b-abde-face205f5ce8",
   "metadata": {},
   "outputs": [],
   "source": [
    "print(output.raw)"
   ]
  },
  {
   "cell_type": "code",
   "execution_count": null,
   "id": "6d82b40d-6c23-426a-be9f-6a59082f62f3",
   "metadata": {},
   "outputs": [],
   "source": [
    "output.token_usage"
   ]
  },
  {
   "cell_type": "markdown",
   "id": "07d72ac5-7956-4140-96ac-68fbd626c7d4",
   "metadata": {},
   "source": [
    "# Game Flow"
   ]
  },
  {
   "cell_type": "code",
   "execution_count": 7,
   "id": "aaae5e87-c8dd-40bb-9e81-9289b43c8281",
   "metadata": {},
   "outputs": [],
   "source": [
    "import nest_asyncio\n",
    "nest_asyncio.apply()"
   ]
  },
  {
   "cell_type": "code",
   "execution_count": 8,
   "id": "94c052a2-5bc9-4692-86c6-6e3a575071b9",
   "metadata": {},
   "outputs": [],
   "source": [
    "import random\n",
    "from crewai.flow.flow import Flow, listen, router, start\n",
    "from pydantic import BaseModel"
   ]
  },
  {
   "cell_type": "code",
   "execution_count": 9,
   "id": "2cba587e-d6ef-4c69-976f-fe09127e2b71",
   "metadata": {},
   "outputs": [],
   "source": [
    "class GameSession(BaseModel):\n",
    "    player_won: bool = False\n",
    "\n",
    "\n",
    "class GameFlow(Flow[GameSession]):\n",
    "\n",
    "    @start()\n",
    "    def begin_start(self):\n",
    "        print(\"Starting the game session\")\n",
    "        player_outcome = random.choice([True, False])\n",
    "        self.state.player_won = player_outcome\n",
    "\n",
    "    @router(begin_start)\n",
    "    def check_outcome(self):\n",
    "        if self.state.player_won:\n",
    "            return \"win\"\n",
    "        else:\n",
    "            return \"lose\"\n",
    "\n",
    "    @listen(\"win\")\n",
    "    def celebrate_win(self):\n",
    "        print(\"Congratulations!\")\n",
    "\n",
    "    @listen(\"lose\")\n",
    "    def console_loss(self):\n",
    "        print(\"Game Over!\")"
   ]
  },
  {
   "cell_type": "code",
   "execution_count": 10,
   "id": "52947003-0d90-4fe9-9764-d76e5046091e",
   "metadata": {},
   "outputs": [],
   "source": [
    "flow = GameFlow()"
   ]
  },
  {
   "cell_type": "code",
   "execution_count": null,
   "id": "30e37653-8e1a-4c8f-a907-eb4ac20d1577",
   "metadata": {},
   "outputs": [],
   "source": [
    "flow.kickoff()"
   ]
  }
 ],
 "metadata": {
  "kernelspec": {
   "display_name": "Python 3",
   "language": "python",
   "name": "python3"
  },
  "language_info": {
   "codemirror_mode": {
    "name": "ipython",
    "version": 3
   },
   "file_extension": ".py",
   "mimetype": "text/x-python",
   "name": "python",
   "nbconvert_exporter": "python",
   "pygments_lexer": "ipython3",
   "version": "3.12.8"
  }
 },
 "nbformat": 4,
 "nbformat_minor": 5
}
