{
 "cells": [
  {
   "cell_type": "markdown",
   "metadata": {
    "id": "TVraWpDTW8i0"
   },
   "source": [
    "# Advanced Operations for LLM Input / Output with LangChain\n",
    "\n",
    "This notebook covers the following operations:\n",
    "\n",
    "- LLM Cost Monitoring\n",
    "- Caching\n",
    "- Streaming"
   ]
  },
  {
   "cell_type": "markdown",
   "metadata": {
    "id": "L1KvMtf54l0d"
   },
   "source": [
    "## Install OpenAI, HuggingFace and LangChain dependencies"
   ]
  },
  {
   "cell_type": "code",
   "execution_count": 1,
   "metadata": {
    "colab": {
     "base_uri": "https://localhost:8080/"
    },
    "id": "2evPp14fy258",
    "outputId": "49cdcff8-0f11-4964-e595-c78280141063"
   },
   "outputs": [
    {
     "data": {
      "text/plain": [
       "'0.3.7'"
      ]
     },
     "execution_count": 1,
     "metadata": {},
     "output_type": "execute_result"
    }
   ],
   "source": [
    "import langchain\n",
    "langchain.__version__"
   ]
  },
  {
   "cell_type": "markdown",
   "metadata": {
    "id": "PtBa7rlWJWH3"
   },
   "source": [
    "## Enter API Tokens"
   ]
  },
  {
   "cell_type": "code",
   "execution_count": 2,
   "metadata": {
    "id": "cKlax-updNW-"
   },
   "outputs": [],
   "source": [
    "import os"
   ]
  },
  {
   "cell_type": "code",
   "execution_count": 3,
   "metadata": {},
   "outputs": [],
   "source": [
    "from dotenv import load_dotenv"
   ]
  },
  {
   "cell_type": "code",
   "execution_count": 4,
   "metadata": {},
   "outputs": [
    {
     "data": {
      "text/plain": [
       "True"
      ]
     },
     "execution_count": 4,
     "metadata": {},
     "output_type": "execute_result"
    }
   ],
   "source": [
    "load_dotenv('/home/santhosh/Projects/courses/Pinnacle/.env')"
   ]
  },
  {
   "cell_type": "markdown",
   "metadata": {
    "id": "Y6RD7As2sm8G"
   },
   "source": [
    "#### Enter your Open AI Key here\n",
    "\n",
    "You can get the key from [here](https://platform.openai.com/api-keys) after creating an account or signing in"
   ]
  },
  {
   "cell_type": "code",
   "execution_count": 2,
   "metadata": {
    "colab": {
     "base_uri": "https://localhost:8080/"
    },
    "id": "9ogxBkS6ZnnC",
    "outputId": "1f6cda0c-e533-444d-b5be-105ec941222d"
   },
   "outputs": [
    {
     "name": "stdout",
     "output_type": "stream",
     "text": [
      "Please enter your Open AI API Key here: ··········\n"
     ]
    }
   ],
   "source": [
    "from getpass import getpass\n",
    "\n",
    "OPENAI_KEY = getpass('Please enter your Open AI API Key here: ')"
   ]
  },
  {
   "cell_type": "markdown",
   "metadata": {
    "id": "T5rOqCyianbP"
   },
   "source": [
    "## Setup necessary system environment variables"
   ]
  },
  {
   "cell_type": "code",
   "execution_count": 3,
   "metadata": {
    "id": "1PIStD04Zp9p"
   },
   "outputs": [],
   "source": [
    "import os\n",
    "\n",
    "os.environ['OPENAI_API_KEY'] = OPENAI_KEY"
   ]
  },
  {
   "cell_type": "markdown",
   "metadata": {
    "id": "_4h0xywyJ3v7"
   },
   "source": [
    "## Chat Models and LLMs\n",
    "\n",
    "Large Language Models (LLMs) are a core component of LangChain. LangChain does not implement or build its own LLMs. It provides a standard API for interacting with almost every LLM out there.\n",
    "\n",
    "There are lots of LLM providers (OpenAI, Hugging Face, etc) - the LLM class is designed to provide a standard interface for all of them."
   ]
  },
  {
   "cell_type": "markdown",
   "metadata": {
    "id": "cSdF6_R7J45Z"
   },
   "source": [
    "## Accessing Commercial LLMs like ChatGPT"
   ]
  },
  {
   "cell_type": "code",
   "execution_count": 5,
   "metadata": {
    "id": "v8nnrOGxZ2uZ"
   },
   "outputs": [],
   "source": [
    "from langchain_openai import ChatOpenAI\n",
    "\n",
    "chatgpt = ChatOpenAI(model_name=\"gpt-4o-mini\", temperature=0)"
   ]
  },
  {
   "cell_type": "markdown",
   "metadata": {
    "id": "_7smy7Cg49To"
   },
   "source": [
    "## Tracking LLM Costs\n",
    "\n",
    "Typically LLMs like ChatGPT charge you based on the number of tokens per request and response. You can track your token usage for specific calls. It is currently only implemented for the OpenAI API."
   ]
  },
  {
   "cell_type": "code",
   "execution_count": 6,
   "metadata": {
    "colab": {
     "base_uri": "https://localhost:8080/"
    },
    "id": "BTP3UdZz5MCk",
    "outputId": "57fe2c67-53be-4194-fab5-1ab9fbe73b61"
   },
   "outputs": [
    {
     "name": "stdout",
     "output_type": "stream",
     "text": [
      "Generative AI refers to algorithms that can create new content, such as text, images, or music, by learning patterns from existing data.\n",
      "Tokens Used: 42\n",
      "\tPrompt Tokens: 14\n",
      "\tCompletion Tokens: 28\n",
      "Successful Requests: 1\n",
      "Total Cost (USD): $1.89e-05\n"
     ]
    }
   ],
   "source": [
    "from langchain_community.callbacks import get_openai_callback\n",
    "\n",
    "prompt = \"\"\"Explain Generative AI in one line\"\"\"\n",
    "\n",
    "with get_openai_callback() as cb:\n",
    "    response = chatgpt.invoke(prompt)\n",
    "    print(response.content)\n",
    "    print(cb)"
   ]
  },
  {
   "cell_type": "code",
   "execution_count": 7,
   "metadata": {
    "colab": {
     "base_uri": "https://localhost:8080/"
    },
    "id": "9MYtDP8b5ctn",
    "outputId": "a48f7c0b-13b0-4964-97b4-4f33bfbed024"
   },
   "outputs": [
    {
     "data": {
      "text/plain": [
       "42"
      ]
     },
     "execution_count": 7,
     "metadata": {},
     "output_type": "execute_result"
    }
   ],
   "source": [
    "cb.total_tokens"
   ]
  },
  {
   "cell_type": "code",
   "execution_count": 8,
   "metadata": {
    "colab": {
     "base_uri": "https://localhost:8080/"
    },
    "id": "Cnv4yvEC5gix",
    "outputId": "f28f9cd6-70ec-42e3-f035-63bf6ea3c867"
   },
   "outputs": [
    {
     "data": {
      "text/plain": [
       "(14, 28)"
      ]
     },
     "execution_count": 8,
     "metadata": {},
     "output_type": "execute_result"
    }
   ],
   "source": [
    "cb.prompt_tokens, cb.completion_tokens"
   ]
  },
  {
   "cell_type": "code",
   "execution_count": 9,
   "metadata": {
    "colab": {
     "base_uri": "https://localhost:8080/"
    },
    "id": "NYbmxO6j5j0W",
    "outputId": "023dd9d3-9e2d-47d0-f6f3-cb670e792f4a"
   },
   "outputs": [
    {
     "data": {
      "text/plain": [
       "1.89e-05"
      ]
     },
     "execution_count": 9,
     "metadata": {},
     "output_type": "execute_result"
    }
   ],
   "source": [
    "cb.total_cost"
   ]
  },
  {
   "cell_type": "markdown",
   "metadata": {
    "id": "SIxhz_-rIc7A"
   },
   "source": [
    "## Caching in LangChain\n",
    "\n",
    "LangChain includes an optional caching layer for language model APIs (LLMs). This caching feature is beneficial for two main reasons:\n",
    "\n",
    "1. **Cost Efficiency:** By caching responses, you reduce the number of API calls made to LLM providers, especially helpful if you are frequently requesting the same completions. This can significantly lower costs.\n",
    "\n",
    "2. **Performance Improvement:** Caching can enhance your application's speed by decreasing the need for repeated API calls to the LLM provider, making interactions quicker and more efficient.\n"
   ]
  },
  {
   "cell_type": "markdown",
   "metadata": {
    "id": "RTXKlly1I7r5"
   },
   "source": [
    "#### InMemoryCache"
   ]
  },
  {
   "cell_type": "code",
   "execution_count": 10,
   "metadata": {
    "colab": {
     "base_uri": "https://localhost:8080/"
    },
    "id": "25pMMHnJDds6",
    "outputId": "d047ed8f-b4f1-42f2-9498-8996d0795bf3"
   },
   "outputs": [
    {
     "name": "stdout",
     "output_type": "stream",
     "text": [
      "CPU times: user 184 ms, sys: 32.8 ms, total: 217 ms\n",
      "Wall time: 8.96 s\n"
     ]
    },
    {
     "data": {
      "text/plain": [
       "AIMessage(content='A mortgage is a type of loan specifically used to purchase real estate, such as a home or property. In a mortgage agreement, the borrower (the person buying the property) receives funds from a lender (usually a bank or financial institution) to buy the property. In return, the borrower agrees to repay the loan amount, plus interest, over a specified period, typically 15 to 30 years.\\n\\nKey components of a mortgage include:\\n\\n1. **Principal**: The original amount of money borrowed to purchase the property.\\n\\n2. **Interest**: The cost of borrowing the money, expressed as a percentage of the principal. This is how lenders make a profit on the loan.\\n\\n3. **Down Payment**: A portion of the purchase price that the borrower pays upfront. This is usually expressed as a percentage of the total price and can vary based on the type of mortgage and lender requirements.\\n\\n4. **Term**: The length of time over which the loan must be repaid. Common terms are 15, 20, or 30 years.\\n\\n5. **Amortization**: The process of gradually paying off the loan through regular monthly payments, which cover both principal and interest.\\n\\n6. **Collateral**: The property itself serves as collateral for the loan. If the borrower fails to make payments, the lender has the right to foreclose on the property, meaning they can take possession of it to recover the loan amount.\\n\\nMortgages can come in various forms, including fixed-rate mortgages (where the interest rate remains the same throughout the term) and adjustable-rate mortgages (where the interest rate can change after an initial fixed period). Understanding the terms and conditions of a mortgage is crucial for anyone looking to buy a home.', additional_kwargs={'refusal': None}, response_metadata={'token_usage': {'completion_tokens': 349, 'prompt_tokens': 15, 'total_tokens': 364, 'completion_tokens_details': {'accepted_prediction_tokens': 0, 'audio_tokens': 0, 'reasoning_tokens': 0, 'rejected_prediction_tokens': 0}, 'prompt_tokens_details': {'audio_tokens': 0, 'cached_tokens': 0}}, 'model_name': 'gpt-4o-mini-2024-07-18', 'system_fingerprint': 'fp_f59a81427f', 'finish_reason': 'stop', 'logprobs': None}, id='run-861cd3a8-d086-4c18-9009-d24aebeee6ab-0', usage_metadata={'input_tokens': 15, 'output_tokens': 349, 'total_tokens': 364, 'input_token_details': {'audio': 0, 'cache_read': 0}, 'output_token_details': {'audio': 0, 'reasoning': 0}})"
      ]
     },
     "execution_count": 10,
     "metadata": {},
     "output_type": "execute_result"
    }
   ],
   "source": [
    "%%time\n",
    "# integrations with other caching tools:\n",
    "# https://api.python.langchain.com/en/latest/community_api_reference.html#module-langchain_community.cache\n",
    "from langchain.cache import InMemoryCache\n",
    "from langchain.globals import set_llm_cache\n",
    "\n",
    "set_llm_cache(InMemoryCache())\n",
    "\n",
    "# The first time, it is not yet in cache, so it should take longer\n",
    "\n",
    "from langchain_core.prompts import ChatPromptTemplate\n",
    "\n",
    "prompt = \"\"\"Explain to me what is mortgage\"\"\"\n",
    "\n",
    "chat_template = ChatPromptTemplate.from_template(prompt)\n",
    "\n",
    "chatgpt.invoke(chat_template.format())"
   ]
  },
  {
   "cell_type": "code",
   "execution_count": 11,
   "metadata": {
    "colab": {
     "base_uri": "https://localhost:8080/"
    },
    "id": "fmBh0BeGFBOd",
    "outputId": "71dcef96-0e5b-4ff8-d2d9-9c05d486dc10"
   },
   "outputs": [
    {
     "name": "stdout",
     "output_type": "stream",
     "text": [
      "CPU times: user 596 µs, sys: 0 ns, total: 596 µs\n",
      "Wall time: 664 µs\n"
     ]
    },
    {
     "data": {
      "text/plain": [
       "AIMessage(content='A mortgage is a type of loan specifically used to purchase real estate, such as a home or property. In a mortgage agreement, the borrower (the person buying the property) receives funds from a lender (usually a bank or financial institution) to buy the property. In return, the borrower agrees to repay the loan amount, plus interest, over a specified period, typically 15 to 30 years.\\n\\nKey components of a mortgage include:\\n\\n1. **Principal**: The original amount of money borrowed to purchase the property.\\n\\n2. **Interest**: The cost of borrowing the money, expressed as a percentage of the principal. This is how lenders make a profit on the loan.\\n\\n3. **Down Payment**: A portion of the purchase price that the borrower pays upfront. This is usually expressed as a percentage of the total price and can vary based on the type of mortgage and lender requirements.\\n\\n4. **Term**: The length of time over which the loan must be repaid. Common terms are 15, 20, or 30 years.\\n\\n5. **Amortization**: The process of gradually paying off the loan through regular monthly payments, which cover both principal and interest.\\n\\n6. **Collateral**: The property itself serves as collateral for the loan. If the borrower fails to make payments, the lender has the right to foreclose on the property, meaning they can take possession of it to recover the loan amount.\\n\\nMortgages can come in various forms, including fixed-rate mortgages (where the interest rate remains the same throughout the term) and adjustable-rate mortgages (where the interest rate can change after an initial fixed period). Understanding the terms and conditions of a mortgage is crucial for anyone looking to buy a home.', additional_kwargs={'refusal': None}, response_metadata={'token_usage': {'completion_tokens': 349, 'prompt_tokens': 15, 'total_tokens': 364, 'completion_tokens_details': {'accepted_prediction_tokens': 0, 'audio_tokens': 0, 'reasoning_tokens': 0, 'rejected_prediction_tokens': 0}, 'prompt_tokens_details': {'audio_tokens': 0, 'cached_tokens': 0}}, 'model_name': 'gpt-4o-mini-2024-07-18', 'system_fingerprint': 'fp_f59a81427f', 'finish_reason': 'stop', 'logprobs': None}, id='run-861cd3a8-d086-4c18-9009-d24aebeee6ab-0', usage_metadata={'input_tokens': 15, 'output_tokens': 349, 'total_tokens': 364, 'input_token_details': {'audio': 0, 'cache_read': 0}, 'output_token_details': {'audio': 0, 'reasoning': 0}})"
      ]
     },
     "execution_count": 11,
     "metadata": {},
     "output_type": "execute_result"
    }
   ],
   "source": [
    "%%time\n",
    "# The second time it is, so it goes faster\n",
    "chatgpt.invoke(chat_template.format())"
   ]
  },
  {
   "cell_type": "markdown",
   "metadata": {
    "id": "LOVr9IJwI-w5"
   },
   "source": [
    "#### SQLite Cache"
   ]
  },
  {
   "cell_type": "code",
   "execution_count": 12,
   "metadata": {
    "colab": {
     "base_uri": "https://localhost:8080/"
    },
    "id": "WIhu_S5FFFm8",
    "outputId": "c9dec895-e364-408e-faef-0ea798f1c77d"
   },
   "outputs": [
    {
     "name": "stdout",
     "output_type": "stream",
     "text": [
      "rm: cannot remove 'langchain.db': No such file or directory\n"
     ]
    }
   ],
   "source": [
    "# just to remove cache if it already exists, ignore if you get an error message below, that is normal (when cache doesnt exist)\n",
    "!rm langchain.db"
   ]
  },
  {
   "cell_type": "code",
   "execution_count": 14,
   "metadata": {
    "id": "J_ZoRnOQFJID"
   },
   "outputs": [],
   "source": [
    "# We can do the same thing with a SQLite cache\n",
    "from langchain.cache import SQLiteCache\n",
    "\n",
    "set_llm_cache(SQLiteCache(database_path=\"langchain.db\"))"
   ]
  },
  {
   "cell_type": "code",
   "execution_count": 15,
   "metadata": {
    "colab": {
     "base_uri": "https://localhost:8080/"
    },
    "id": "tfhl1XolFR81",
    "outputId": "b081952a-fc7b-4114-f5b0-9d98d88ce8fd"
   },
   "outputs": [
    {
     "name": "stdout",
     "output_type": "stream",
     "text": [
      "CPU times: user 27.4 ms, sys: 10.2 ms, total: 37.7 ms\n",
      "Wall time: 4.33 s\n"
     ]
    },
    {
     "data": {
      "text/plain": [
       "AIMessage(content='Fractional real estate refers to a model of property ownership where multiple individuals or entities share ownership of a single property. This arrangement allows investors to purchase a fraction or percentage of a property rather than the entire asset, making real estate investment more accessible and affordable.\\n\\nHere are some key features of fractional real estate:\\n\\n1. **Shared Ownership**: Multiple owners hold a share of the property, which can range from a small percentage to a larger portion, depending on the investment structure.\\n\\n2. **Cost-Effective**: By sharing the cost of purchasing and maintaining a property, investors can enter the real estate market with a lower financial commitment.\\n\\n3. **Usage Rights**: Owners typically have specific rights to use the property, which may be allocated based on the percentage of ownership or through a predetermined schedule.\\n\\n4. **Management**: Fractional ownership often involves a management company that handles the day-to-day operations, maintenance, and rental of the property, relieving individual owners of these responsibilities.\\n\\n5. **Investment Potential**: Owners can benefit from property appreciation and rental income, similar to traditional real estate investments, but with a lower initial investment.\\n\\n6. **Legal Structure**: Fractional ownership can be structured in various ways, including limited liability companies (LLCs), partnerships, or through real estate investment trusts (REITs).\\n\\nFractional real estate is commonly used for vacation homes, luxury properties, and investment properties, allowing individuals to enjoy the benefits of real estate without the full financial burden.', additional_kwargs={'refusal': None}, response_metadata={'token_usage': {'completion_tokens': 299, 'prompt_tokens': 17, 'total_tokens': 316, 'completion_tokens_details': {'accepted_prediction_tokens': 0, 'audio_tokens': 0, 'reasoning_tokens': 0, 'rejected_prediction_tokens': 0}, 'prompt_tokens_details': {'audio_tokens': 0, 'cached_tokens': 0}}, 'model_name': 'gpt-4o-mini-2024-07-18', 'system_fingerprint': 'fp_0ba0d124f1', 'finish_reason': 'stop', 'logprobs': None}, id='run-d25dca98-ee9f-4425-933f-dfebd6f8a2e5-0', usage_metadata={'input_tokens': 17, 'output_tokens': 299, 'total_tokens': 316, 'input_token_details': {'audio': 0, 'cache_read': 0}, 'output_token_details': {'audio': 0, 'reasoning': 0}})"
      ]
     },
     "execution_count": 15,
     "metadata": {},
     "output_type": "execute_result"
    }
   ],
   "source": [
    "%%time\n",
    "\n",
    "# The first time, it is not yet in cache, so it should take longer\n",
    "prompt = \"\"\"Explain to me what is fractional real estate\"\"\"\n",
    "\n",
    "chat_template = ChatPromptTemplate.from_template(prompt)\n",
    "\n",
    "chatgpt.invoke(chat_template.format())"
   ]
  },
  {
   "cell_type": "code",
   "execution_count": 16,
   "metadata": {
    "colab": {
     "base_uri": "https://localhost:8080/"
    },
    "id": "VSRJCYrxFZeU",
    "outputId": "326ed440-0879-42db-d5b7-c0ea64bb1d54"
   },
   "outputs": [
    {
     "name": "stdout",
     "output_type": "stream",
     "text": [
      "CPU times: user 42.3 ms, sys: 41.3 ms, total: 83.6 ms\n",
      "Wall time: 91.2 ms\n"
     ]
    },
    {
     "data": {
      "text/plain": [
       "AIMessage(content='Fractional real estate refers to a model of property ownership where multiple individuals or entities share ownership of a single property. This arrangement allows investors to purchase a fraction or percentage of a property rather than the entire asset, making real estate investment more accessible and affordable.\\n\\nHere are some key features of fractional real estate:\\n\\n1. **Shared Ownership**: Multiple owners hold a share of the property, which can range from a small percentage to a larger portion, depending on the investment structure.\\n\\n2. **Cost-Effective**: By sharing the cost of purchasing and maintaining a property, investors can enter the real estate market with a lower financial commitment.\\n\\n3. **Usage Rights**: Owners typically have specific rights to use the property, which may be allocated based on the percentage of ownership or through a predetermined schedule.\\n\\n4. **Management**: Fractional ownership often involves a management company that handles the day-to-day operations, maintenance, and rental of the property, relieving individual owners of these responsibilities.\\n\\n5. **Investment Potential**: Owners can benefit from property appreciation and rental income, similar to traditional real estate investments, but with a lower initial investment.\\n\\n6. **Legal Structure**: Fractional ownership can be structured in various ways, including limited liability companies (LLCs), partnerships, or through real estate investment trusts (REITs).\\n\\nFractional real estate is commonly used for vacation homes, luxury properties, and investment properties, allowing individuals to enjoy the benefits of real estate without the full financial burden.', additional_kwargs={'refusal': None}, response_metadata={'token_usage': {'completion_tokens': 299, 'prompt_tokens': 17, 'total_tokens': 316, 'completion_tokens_details': {'accepted_prediction_tokens': 0, 'audio_tokens': 0, 'reasoning_tokens': 0, 'rejected_prediction_tokens': 0}, 'prompt_tokens_details': {'audio_tokens': 0, 'cached_tokens': 0}}, 'model_name': 'gpt-4o-mini-2024-07-18', 'system_fingerprint': 'fp_0ba0d124f1', 'finish_reason': 'stop', 'logprobs': None}, id='run-d25dca98-ee9f-4425-933f-dfebd6f8a2e5-0', usage_metadata={'input_tokens': 17, 'output_tokens': 299, 'total_tokens': 316, 'input_token_details': {'audio': 0, 'cache_read': 0}, 'output_token_details': {'audio': 0, 'reasoning': 0}})"
      ]
     },
     "execution_count": 16,
     "metadata": {},
     "output_type": "execute_result"
    }
   ],
   "source": [
    "%%time\n",
    "# The second time it is, so it goes faster\n",
    "chatgpt.invoke(chat_template.format())"
   ]
  },
  {
   "cell_type": "markdown",
   "metadata": {
    "id": "esVD-ghbJCDD"
   },
   "source": [
    "## Streaming in LLMs\n",
    "\n",
    "All language model interfaces (LLMs) in LangChain implement the `Runnable` interface, which provides default methods such as `ainvoke`, `batch`, `abatch`, `stream`, and `astream`. This setup equips all LLMs with basic streaming capabilities.\n",
    "\n",
    "### Streaming Defaults:\n",
    "\n",
    "- **Synchronous Streaming:** By default, streaming operations return an `Iterator` that yields a single value, the final result from the LLM provider.\n",
    "- **Asynchronous Streaming:** Similarly, async streaming defaults to returning an `AsyncIterator` with the final result.\n",
    "\n",
    "### Limitations:\n",
    "\n",
    "- These default implementations do not support token-by-token streaming. For such detailed streaming, the LLM provider must offer native support. However, the default setup ensures that your code expecting an iterator of tokens will function correctly within these constraints.\n"
   ]
  },
  {
   "cell_type": "code",
   "execution_count": 17,
   "metadata": {
    "colab": {
     "base_uri": "https://localhost:8080/"
    },
    "id": "mu7GykqNF7He",
    "outputId": "c0da94f4-391a-489c-cfd8-22032d63d173",
    "scrolled": true
   },
   "outputs": [
    {
     "name": "stdout",
     "output_type": "stream",
     "text": [
      "\n",
      "A\n",
      " mortgage\n",
      " is\n",
      " a\n",
      " type\n",
      " of\n",
      " loan\n",
      " specifically\n",
      " used\n",
      " to\n",
      " purchase\n",
      " real\n",
      " estate\n",
      ",\n",
      " where\n",
      " the\n",
      " property\n",
      " itself\n",
      " serves\n",
      " as\n",
      " collateral\n",
      " for\n",
      " the\n",
      " loan\n",
      ".\n",
      " When\n",
      " a\n",
      " borrower\n",
      " takes\n",
      " out\n",
      " a\n",
      " mortgage\n",
      ",\n",
      " they\n",
      " agree\n",
      " to\n",
      " repay\n",
      " the\n",
      " loan\n",
      " amount\n",
      ",\n",
      " plus\n",
      " interest\n",
      ",\n",
      " over\n",
      " a\n",
      " specified\n",
      " period\n",
      ",\n",
      " typically\n",
      " \n",
      "15\n",
      " to\n",
      " \n",
      "30\n",
      " years\n",
      ".\n",
      " Mort\n",
      "gages\n",
      " are\n",
      " commonly\n",
      " used\n",
      " by\n",
      " individuals\n",
      " and\n",
      " families\n",
      " to\n",
      " buy\n",
      " homes\n",
      ",\n",
      " but\n",
      " they\n",
      " can\n",
      " also\n",
      " be\n",
      " used\n",
      " for\n",
      " investment\n",
      " properties\n",
      " or\n",
      " commercial\n",
      " real\n",
      " estate\n",
      ".\n",
      "\n",
      "\n",
      "###\n",
      " Key\n",
      " Components\n",
      " of\n",
      " a\n",
      " Mortgage\n",
      ":\n",
      "\n",
      "\n",
      "1\n",
      ".\n",
      " **\n",
      "Principal\n",
      "**\n",
      ":\n",
      " The\n",
      " original\n",
      " loan\n",
      " amount\n",
      " borrowed\n",
      " from\n",
      " the\n",
      " lender\n",
      ".\n",
      "\n",
      "2\n",
      ".\n",
      " **\n",
      "Interest\n",
      "**\n",
      ":\n",
      " The\n",
      " cost\n",
      " of\n",
      " borrowing\n",
      " the\n",
      " principal\n",
      ",\n",
      " expressed\n",
      " as\n",
      " a\n",
      " percentage\n",
      ".\n",
      " This\n",
      " can\n",
      " be\n",
      " fixed\n",
      " (\n",
      "the\n",
      " same\n",
      " throughout\n",
      " the\n",
      " loan\n",
      " term\n",
      ")\n",
      " or\n",
      " variable\n",
      " (\n",
      "can\n",
      " change\n",
      " at\n",
      " specified\n",
      " times\n",
      ").\n",
      "\n",
      "3\n",
      ".\n",
      " **\n",
      "Term\n",
      "**\n",
      ":\n",
      " The\n",
      " length\n",
      " of\n",
      " time\n",
      " over\n",
      " which\n",
      " the\n",
      " loan\n",
      " must\n",
      " be\n",
      " rep\n",
      "aid\n",
      ",\n",
      " commonly\n",
      " \n",
      "15\n",
      ",\n",
      " \n",
      "20\n",
      ",\n",
      " or\n",
      " \n",
      "30\n",
      " years\n",
      ".\n",
      "\n",
      "4\n",
      ".\n",
      " **\n",
      "Down\n",
      " Payment\n",
      "**\n",
      ":\n",
      " The\n",
      " initial\n",
      " amount\n",
      " paid\n",
      " upfront\n",
      " by\n",
      " the\n",
      " borrower\n",
      ",\n",
      " usually\n",
      " expressed\n",
      " as\n",
      " a\n",
      " percentage\n",
      " of\n",
      " the\n",
      " property\n",
      "’s\n",
      " purchase\n",
      " price\n",
      ".\n",
      " A\n",
      " higher\n",
      " down\n",
      " payment\n",
      " can\n",
      " reduce\n",
      " the\n",
      " loan\n",
      " amount\n",
      " and\n",
      " may\n",
      " eliminate\n",
      " the\n",
      " need\n",
      " for\n",
      " private\n",
      " mortgage\n",
      " insurance\n",
      " (\n",
      "PM\n",
      "I\n",
      ").\n",
      "\n",
      "5\n",
      ".\n",
      " **\n",
      "Am\n",
      "ort\n",
      "ization\n",
      "**\n",
      ":\n",
      " The\n",
      " process\n",
      " of\n",
      " paying\n",
      " off\n",
      " the\n",
      " loan\n",
      " over\n",
      " time\n",
      " through\n",
      " regular\n",
      " payments\n",
      ",\n",
      " which\n",
      " cover\n",
      " both\n",
      " principal\n",
      " and\n",
      " interest\n",
      ".\n",
      "\n",
      "6\n",
      ".\n",
      " **\n",
      "Esc\n",
      "row\n",
      "**\n",
      ":\n",
      " An\n",
      " account\n",
      " where\n",
      " funds\n",
      " are\n",
      " held\n",
      " for\n",
      " property\n",
      " taxes\n",
      " and\n",
      " insurance\n",
      ",\n",
      " which\n",
      " are\n",
      " often\n",
      " included\n",
      " in\n",
      " monthly\n",
      " mortgage\n",
      " payments\n",
      ".\n",
      "\n",
      "\n",
      "###\n",
      " Types\n",
      " of\n",
      " Mort\n",
      "gages\n",
      ":\n",
      "\n",
      "\n",
      "1\n",
      ".\n",
      " **\n",
      "Fixed\n",
      "-\n",
      "Rate\n",
      " Mortgage\n",
      "**\n",
      ":\n",
      " The\n",
      " interest\n",
      " rate\n",
      " remains\n",
      " constant\n",
      " throughout\n",
      " the\n",
      " loan\n",
      " term\n",
      ",\n",
      " providing\n",
      " predictable\n",
      " monthly\n",
      " payments\n",
      ".\n",
      "\n",
      "2\n",
      ".\n",
      " **\n",
      "Adjust\n",
      "able\n",
      "-\n",
      "Rate\n",
      " Mortgage\n",
      " (\n",
      "ARM\n",
      ")**\n",
      ":\n",
      " The\n",
      " interest\n",
      " rate\n",
      " may\n",
      " change\n",
      " at\n",
      " specified\n",
      " intervals\n",
      " based\n",
      " on\n",
      " market\n",
      " conditions\n",
      ",\n",
      " which\n",
      " can\n",
      " lead\n",
      " to\n",
      " lower\n",
      " initial\n",
      " payments\n",
      " but\n",
      " potential\n",
      " increases\n",
      " over\n",
      " time\n",
      ".\n",
      "\n",
      "3\n",
      ".\n",
      " **\n",
      "Government\n",
      "-\n",
      "Back\n",
      "ed\n",
      " Loans\n",
      "**\n",
      ":\n",
      " Such\n",
      " as\n",
      " FHA\n",
      ",\n",
      " VA\n",
      ",\n",
      " and\n",
      " USDA\n",
      " loans\n",
      ",\n",
      " which\n",
      " are\n",
      " designed\n",
      " to\n",
      " help\n",
      " specific\n",
      " groups\n",
      " of\n",
      " borrowers\n",
      " and\n",
      " often\n",
      " have\n",
      " lower\n",
      " down\n",
      " payment\n",
      " requirements\n",
      ".\n",
      "\n",
      "\n",
      "###\n",
      " Pros\n",
      " of\n",
      " Mort\n",
      "gages\n",
      ":\n",
      "\n",
      "\n",
      "1\n",
      ".\n",
      " **\n",
      "Home\n",
      "ownership\n",
      "**\n",
      ":\n",
      " Mort\n",
      "gages\n",
      " enable\n",
      " individuals\n",
      " to\n",
      " purchase\n",
      " homes\n",
      " without\n",
      " needing\n",
      " the\n",
      " full\n",
      " purchase\n",
      " price\n",
      " upfront\n",
      ",\n",
      " making\n",
      " home\n",
      "ownership\n",
      " accessible\n",
      ".\n",
      "\n",
      "2\n",
      ".\n",
      " **\n",
      "Equ\n",
      "ity\n",
      " Building\n",
      "**\n",
      ":\n",
      " As\n",
      " you\n",
      " make\n",
      " mortgage\n",
      " payments\n",
      ",\n",
      " you\n",
      " build\n",
      " equity\n",
      " in\n",
      " your\n",
      " home\n",
      ",\n",
      " which\n",
      " can\n",
      " be\n",
      " a\n",
      " valuable\n",
      " asset\n",
      " over\n",
      " time\n",
      ".\n",
      "\n",
      "3\n",
      ".\n",
      " **\n",
      "Tax\n",
      " Benefits\n",
      "**\n",
      ":\n",
      " In\n",
      " many\n",
      " countries\n",
      ",\n",
      " mortgage\n",
      " interest\n",
      " payments\n",
      " may\n",
      " be\n",
      " tax\n",
      "-d\n",
      "educt\n",
      "ible\n",
      ",\n",
      " providing\n",
      " potential\n",
      " savings\n",
      ".\n",
      "\n",
      "4\n",
      ".\n",
      " **\n",
      "Fixed\n",
      " Payments\n",
      "**\n",
      ":\n",
      " With\n",
      " a\n",
      " fixed\n",
      "-rate\n",
      " mortgage\n",
      ",\n",
      " monthly\n",
      " payments\n",
      " remain\n",
      " stable\n",
      ",\n",
      " making\n",
      " budgeting\n",
      " easier\n",
      ".\n",
      "\n",
      "5\n",
      ".\n",
      " **\n",
      "Le\n",
      "verage\n",
      "**\n",
      ":\n",
      " Mort\n",
      "gages\n",
      " allow\n",
      " you\n",
      " to\n",
      " leverage\n",
      " your\n",
      " investment\n",
      ",\n",
      " meaning\n",
      " you\n",
      " can\n",
      " control\n",
      " a\n",
      " larger\n",
      " asset\n",
      " with\n",
      " a\n",
      " smaller\n",
      " amount\n",
      " of\n",
      " your\n",
      " own\n",
      " money\n",
      ".\n",
      "\n",
      "\n",
      "###\n",
      " Cons\n",
      " of\n",
      " Mort\n",
      "gages\n",
      ":\n",
      "\n",
      "\n",
      "1\n",
      ".\n",
      " **\n",
      "Debt\n",
      " Obl\n",
      "igation\n",
      "**\n",
      ":\n",
      " A\n",
      " mortgage\n",
      " is\n",
      " a\n",
      " long\n",
      "-term\n",
      " debt\n",
      " that\n",
      " requires\n",
      " consistent\n",
      " payments\n",
      ",\n",
      " which\n",
      " can\n",
      " be\n",
      " a\n",
      " financial\n",
      " burden\n",
      ".\n",
      "\n",
      "2\n",
      ".\n",
      " **\n",
      "Interest\n",
      " Costs\n",
      "**\n",
      ":\n",
      " Over\n",
      " the\n",
      " life\n",
      " of\n",
      " the\n",
      " loan\n",
      ",\n",
      " the\n",
      " total\n",
      " interest\n",
      " paid\n",
      " can\n",
      " be\n",
      " substantial\n",
      ",\n",
      " sometimes\n",
      " exceeding\n",
      " the\n",
      " original\n",
      " loan\n",
      " amount\n",
      ".\n",
      "\n",
      "3\n",
      ".\n",
      " **\n",
      "Risk\n",
      " of\n",
      " Fore\n",
      "closure\n",
      "**\n",
      ":\n",
      " If\n",
      " you\n",
      " fail\n",
      " to\n",
      " make\n",
      " payments\n",
      ",\n",
      " the\n",
      " lender\n",
      " can\n",
      " fore\n",
      "close\n",
      " on\n",
      " the\n",
      " property\n",
      ",\n",
      " leading\n",
      " to\n",
      " loss\n",
      " of\n",
      " your\n",
      " home\n",
      " and\n",
      " damage\n",
      " to\n",
      " your\n",
      " credit\n",
      " score\n",
      ".\n",
      "\n",
      "4\n",
      ".\n",
      " **\n",
      "Market\n",
      " Fl\n",
      "uct\n",
      "u\n",
      "ations\n",
      "**\n",
      ":\n",
      " Property\n",
      " values\n",
      " can\n",
      " decrease\n",
      ",\n",
      " potentially\n",
      " leading\n",
      " to\n",
      " owing\n",
      " more\n",
      " on\n",
      " the\n",
      " mortgage\n",
      " than\n",
      " the\n",
      " home\n",
      " is\n",
      " worth\n",
      " (\n",
      "under\n",
      "water\n",
      " mortgage\n",
      ").\n",
      "\n",
      "5\n",
      ".\n",
      " **\n",
      "Additional\n",
      " Costs\n",
      "**\n",
      ":\n",
      " Home\n",
      "ownership\n",
      " comes\n",
      " with\n",
      " other\n",
      " costs\n",
      ",\n",
      " such\n",
      " as\n",
      " property\n",
      " taxes\n",
      ",\n",
      " insurance\n",
      ",\n",
      " maintenance\n",
      ",\n",
      " and\n",
      " repairs\n",
      ",\n",
      " which\n",
      " can\n",
      " add\n",
      " to\n",
      " the\n",
      " financial\n",
      " burden\n",
      ".\n",
      "\n",
      "\n",
      "###\n",
      " Conclusion\n",
      ":\n",
      "\n",
      "\n",
      "A\n",
      " mortgage\n",
      " can\n",
      " be\n",
      " a\n",
      " powerful\n",
      " tool\n",
      " for\n",
      " achieving\n",
      " home\n",
      "ownership\n",
      " and\n",
      " building\n",
      " wealth\n",
      " over\n",
      " time\n",
      ",\n",
      " but\n",
      " it\n",
      " also\n",
      " comes\n",
      " with\n",
      " significant\n",
      " responsibilities\n",
      " and\n",
      " risks\n",
      ".\n",
      " It\n",
      "’s\n",
      " essential\n",
      " for\n",
      " potential\n",
      " borrowers\n",
      " to\n",
      " carefully\n",
      " consider\n",
      " their\n",
      " financial\n",
      " situation\n",
      ",\n",
      " the\n",
      " terms\n",
      " of\n",
      " the\n",
      " mortgage\n",
      ",\n",
      " and\n",
      " the\n",
      " long\n",
      "-term\n",
      " implications\n",
      " before\n",
      " committing\n",
      " to\n",
      " a\n",
      " mortgage\n",
      ".\n",
      " Consulting\n",
      " with\n",
      " financial\n",
      " advisors\n",
      " or\n",
      " mortgage\n",
      " professionals\n",
      " can\n",
      " help\n",
      " individuals\n",
      " make\n",
      " informed\n",
      " decisions\n",
      ".\n",
      "\n"
     ]
    }
   ],
   "source": [
    "prompt = \"\"\"Explain to me what is mortgage in detail with pros and cons\"\"\"\n",
    "chat_template = ChatPromptTemplate.from_template(prompt)\n",
    "\n",
    "for chunk in chatgpt.stream(chat_template.format()):\n",
    "    print(chunk.content)"
   ]
  },
  {
   "cell_type": "code",
   "execution_count": 18,
   "metadata": {
    "colab": {
     "base_uri": "https://localhost:8080/"
    },
    "id": "8ZgtSviWGAvv",
    "outputId": "b7ef82b7-5a70-41d8-dd49-83fbc7c3b3db"
   },
   "outputs": [
    {
     "name": "stdout",
     "output_type": "stream",
     "text": [
      "A mortgage is a type of loan specifically used to purchase real estate, where the property itself serves as collateral for the loan. When a borrower takes out a mortgage, they agree to repay the loan amount, plus interest, over a specified period, typically 15 to 30 years. Mortgages are commonly used by individuals and families to buy homes, but they can also be used for investment properties or commercial real estate.\n",
      "\n",
      "### Key Components of a Mortgage:\n",
      "\n",
      "1. **Principal**: The original loan amount borrowed from the lender.\n",
      "2. **Interest**: The cost of borrowing the principal, expressed as a percentage of the loan amount. This can be fixed (stays the same throughout the loan term) or variable (can change at specified times).\n",
      "3. **Term**: The length of time over which the loan must be repaid, commonly 15, 20, or 30 years.\n",
      "4. **Down Payment**: The initial amount paid upfront by the borrower, usually expressed as a percentage of the property’s purchase price. A larger down payment can reduce the loan amount and may eliminate the need for private mortgage insurance (PMI).\n",
      "5. **Amortization**: The process of gradually paying off the loan through regular payments, which cover both principal and interest.\n",
      "6. **Escrow**: An account where funds are held for property taxes and insurance, which are often included in monthly mortgage payments.\n",
      "\n",
      "### Types of Mortgages:\n",
      "\n",
      "1. **Fixed-Rate Mortgage**: The interest rate remains constant throughout the loan term, providing predictable monthly payments.\n",
      "2. **Adjustable-Rate Mortgage (ARM)**: The interest rate may change after an initial fixed period, leading to fluctuating monthly payments.\n",
      "3. **Interest-Only Mortgage**: The borrower pays only the interest for a certain period, after which they begin paying both principal and interest.\n",
      "4. **FHA Loans**: Insured by the Federal Housing Administration, these loans are designed for low-to-moderate-income borrowers and require lower down payments.\n",
      "5. **VA Loans**: Available to veterans and active-duty military personnel, these loans often require no down payment and have favorable terms.\n",
      "\n",
      "### Pros of Mortgages:\n",
      "\n",
      "1. **Homeownership**: Mortgages enable individuals to purchase homes without needing the full purchase price upfront.\n",
      "2. **Equity Building**: As you make payments, you build equity in your home, which can be a valuable asset over time.\n",
      "3. **Tax Benefits**: Mortgage interest payments may be tax-deductible, depending on local laws and regulations.\n",
      "4. **Fixed Payments**: With a fixed-rate mortgage, monthly payments remain stable, making budgeting easier.\n",
      "5. **Leverage**: Mortgages allow you to leverage your investment, meaning you can control a larger asset with a smaller amount of your own money.\n",
      "\n",
      "### Cons of Mortgages:\n",
      "\n",
      "1. **Debt Obligation**: A mortgage is a long-term debt that requires consistent payments, which can be a financial burden.\n",
      "2. **Interest Costs**: Over the life of the loan, the total interest paid can be substantial, often exceeding the original loan amount.\n",
      "3. **Risk of Foreclosure**: If you fail to make payments, the lender can foreclose on the property, leading to loss of your home.\n",
      "4. **Market Fluctuations**: Property values can decrease, potentially leaving you with a mortgage balance higher than the home’s market value (underwater mortgage).\n",
      "5. **Additional Costs**: Homeownership comes with other costs, such as property taxes, insurance, maintenance, and repairs, which can add to the financial burden.\n",
      "\n",
      "### Conclusion:\n",
      "\n",
      "A mortgage can be a powerful tool for achieving homeownership and building wealth over time. However, it also comes with significant responsibilities and risks. It’s essential for potential borrowers to carefully consider their financial situation, the terms of the mortgage, and the long-term implications before committing to a mortgage. Consulting with financial advisors or mortgage professionals can help individuals make informed decisions."
     ]
    }
   ],
   "source": [
    "prompt = \"\"\"Explain to me what is mortgage in detail with pros and cons\"\"\"\n",
    "chat_template = ChatPromptTemplate.from_template(prompt)\n",
    "\n",
    "response = []\n",
    "for chunk in chatgpt.stream(chat_template.format()):\n",
    "    print(chunk.content, end=\"\")\n",
    "    response.append(chunk.content)"
   ]
  },
  {
   "cell_type": "code",
   "execution_count": 19,
   "metadata": {
    "colab": {
     "base_uri": "https://localhost:8080/"
    },
    "id": "XmvaKjBg1PhO",
    "outputId": "451d1701-3dda-4758-ebbf-d83a11631ffc"
   },
   "outputs": [
    {
     "data": {
      "text/plain": [
       "['',\n",
       " 'A',\n",
       " ' mortgage',\n",
       " ' is',\n",
       " ' a',\n",
       " ' type',\n",
       " ' of',\n",
       " ' loan',\n",
       " ' specifically',\n",
       " ' used']"
      ]
     },
     "execution_count": 19,
     "metadata": {},
     "output_type": "execute_result"
    }
   ],
   "source": [
    "response[:10]"
   ]
  },
  {
   "cell_type": "code",
   "execution_count": 20,
   "metadata": {
    "colab": {
     "base_uri": "https://localhost:8080/"
    },
    "id": "ABQd2OaN1Pjc",
    "outputId": "530482b1-fe14-4791-8668-a39f17a1873f"
   },
   "outputs": [
    {
     "name": "stdout",
     "output_type": "stream",
     "text": [
      "A mortgage is a type of loan specifically used to purchase real estate, where the property itself serves as collateral for the loan. When a borrower takes out a mortgage, they agree to repay the loan amount, plus interest, over a specified period, typically 15 to 30 years. Mortgages are commonly used by individuals and families to buy homes, but they can also be used for investment properties or commercial real estate.\n",
      "\n",
      "### Key Components of a Mortgage:\n",
      "\n",
      "1. **Principal**: The original loan amount borrowed from the lender.\n",
      "2. **Interest**: The cost of borrowing the principal, expressed as a percentage of the loan amount. This can be fixed (stays the same throughout the loan term) or variable (can change at specified times).\n",
      "3. **Term**: The length of time over which the loan must be repaid, commonly 15, 20, or 30 years.\n",
      "4. **Down Payment**: The initial amount paid upfront by the borrower, usually expressed as a percentage of the property’s purchase price. A larger down payment can reduce the loan amount and may eliminate the need for private mortgage insurance (PMI).\n",
      "5. **Amortization**: The process of gradually paying off the loan through regular payments, which cover both principal and interest.\n",
      "6. **Escrow**: An account where funds are held for property taxes and insurance, which are often included in monthly mortgage payments.\n",
      "\n",
      "### Types of Mortgages:\n",
      "\n",
      "1. **Fixed-Rate Mortgage**: The interest rate remains constant throughout the loan term, providing predictable monthly payments.\n",
      "2. **Adjustable-Rate Mortgage (ARM)**: The interest rate may change after an initial fixed period, leading to fluctuating monthly payments.\n",
      "3. **Interest-Only Mortgage**: The borrower pays only the interest for a certain period, after which they begin paying both principal and interest.\n",
      "4. **FHA Loans**: Insured by the Federal Housing Administration, these loans are designed for low-to-moderate-income borrowers and require lower down payments.\n",
      "5. **VA Loans**: Available to veterans and active-duty military personnel, these loans often require no down payment and have favorable terms.\n",
      "\n",
      "### Pros of Mortgages:\n",
      "\n",
      "1. **Homeownership**: Mortgages enable individuals to purchase homes without needing the full purchase price upfront.\n",
      "2. **Equity Building**: As you make payments, you build equity in your home, which can be a valuable asset over time.\n",
      "3. **Tax Benefits**: Mortgage interest payments may be tax-deductible, depending on local laws and regulations.\n",
      "4. **Fixed Payments**: With a fixed-rate mortgage, monthly payments remain stable, making budgeting easier.\n",
      "5. **Leverage**: Mortgages allow you to leverage your investment, meaning you can control a larger asset with a smaller amount of your own money.\n",
      "\n",
      "### Cons of Mortgages:\n",
      "\n",
      "1. **Debt Obligation**: A mortgage is a long-term debt that requires consistent payments, which can be a financial burden.\n",
      "2. **Interest Costs**: Over the life of the loan, the total interest paid can be substantial, often exceeding the original loan amount.\n",
      "3. **Risk of Foreclosure**: If you fail to make payments, the lender can foreclose on the property, leading to loss of your home.\n",
      "4. **Market Fluctuations**: Property values can decrease, potentially leaving you with a mortgage balance higher than the home’s market value (underwater mortgage).\n",
      "5. **Additional Costs**: Homeownership comes with other costs, such as property taxes, insurance, maintenance, and repairs, which can add to the financial burden.\n",
      "\n",
      "### Conclusion:\n",
      "\n",
      "A mortgage can be a powerful tool for achieving homeownership and building wealth over time. However, it also comes with significant responsibilities and risks. It’s essential for potential borrowers to carefully consider their financial situation, the terms of the mortgage, and the long-term implications before committing to a mortgage. Consulting with financial advisors or mortgage professionals can help individuals make informed decisions.\n"
     ]
    }
   ],
   "source": [
    "print(''.join(response))"
   ]
  }
 ],
 "metadata": {
  "colab": {
   "provenance": []
  },
  "kernelspec": {
   "display_name": "Python 3 (ipykernel)",
   "language": "python",
   "name": "python3"
  },
  "language_info": {
   "codemirror_mode": {
    "name": "ipython",
    "version": 3
   },
   "file_extension": ".py",
   "mimetype": "text/x-python",
   "name": "python",
   "nbconvert_exporter": "python",
   "pygments_lexer": "ipython3",
   "version": "3.11.7"
  }
 },
 "nbformat": 4,
 "nbformat_minor": 4
}
