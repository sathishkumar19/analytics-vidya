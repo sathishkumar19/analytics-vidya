{
 "cells": [
  {
   "cell_type": "markdown",
   "metadata": {
    "id": "TkZ-tYIsqsAP"
   },
   "source": [
    "# Exploring LLM Chains with LCEL"
   ]
  },
  {
   "cell_type": "markdown",
   "metadata": {
    "id": "L1KvMtf54l0d"
   },
   "source": [
    "## Install OpenAI, and LangChain dependencies"
   ]
  },
  {
   "cell_type": "code",
   "execution_count": 1,
   "metadata": {
    "scrolled": true
   },
   "outputs": [
    {
     "data": {
      "text/plain": [
       "'0.3.7'"
      ]
     },
     "execution_count": 1,
     "metadata": {},
     "output_type": "execute_result"
    }
   ],
   "source": [
    "import langchain\n",
    "langchain.__version__"
   ]
  },
  {
   "cell_type": "markdown",
   "metadata": {
    "id": "1T0s0um5Svfa"
   },
   "source": [
    "## Setup Environment Variables"
   ]
  },
  {
   "cell_type": "code",
   "execution_count": 2,
   "metadata": {},
   "outputs": [],
   "source": [
    "from dotenv import load_dotenv"
   ]
  },
  {
   "cell_type": "code",
   "execution_count": 3,
   "metadata": {},
   "outputs": [
    {
     "data": {
      "text/plain": [
       "True"
      ]
     },
     "execution_count": 3,
     "metadata": {},
     "output_type": "execute_result"
    }
   ],
   "source": [
    "load_dotenv('/home/santhosh/Projects/courses/Pinnacle/.env')"
   ]
  },
  {
   "cell_type": "markdown",
   "metadata": {
    "id": "2oeckxFBcc0E"
   },
   "source": [
    "## Load Connection to LLM\n",
    "\n",
    "Here we create a connection to ChatGPT to use later in our chains"
   ]
  },
  {
   "cell_type": "code",
   "execution_count": 4,
   "metadata": {
    "id": "vHa9LMOfcOCV"
   },
   "outputs": [],
   "source": [
    "from langchain_openai import ChatOpenAI\n",
    "\n",
    "chatgpt = ChatOpenAI(model_name='gpt-4o-mini', temperature=0)"
   ]
  },
  {
   "cell_type": "markdown",
   "metadata": {
    "id": "FD3EKYm8M8gg"
   },
   "source": [
    "## Working with LangChain Chains\n",
    "\n",
    "Using an LLM in isolation is fine for simple applications, but more complex applications require chaining LLMs - either with each other or with other components. Also running on multiple data points can be done easily with chains.\n",
    "\n",
    "Chain's are the legacy interface for \"chained\" applications. We define a Chain very generically as a sequence of calls to components, which can include other chains.\n",
    "\n",
    "Here we will be using LCEL chains exclusively"
   ]
  },
  {
   "cell_type": "markdown",
   "metadata": {
    "id": "ng-9uxLActTT"
   },
   "source": [
    "### LLM Chain with LCEL\n",
    "\n",
    "LangChain Expression Language (LCEL) connects prompts, models, parsers and retrieval components using a `|` pipe operator.\n",
    "\n",
    "Any runnables can be \"chained\" together into sequences. The output of the previous runnable's `.invoke()` call is passed as input to the next runnable. This can be done using the pipe operator `(|)`, or the more explicit `.pipe()` method, which does the same thing.\n",
    "\n",
    "The resulting `RunnableSequence` is itself a runnable, which means it can be invoked, streamed, or further chained just like any other runnable."
   ]
  },
  {
   "cell_type": "code",
   "execution_count": 5,
   "metadata": {
    "id": "pfB6RuGLWjDT"
   },
   "outputs": [],
   "source": [
    "from langchain_core.prompts import ChatPromptTemplate\n",
    "\n",
    "prompt_txt = \"\"\"Explain to me about {topic} in 3 bullet points\"\"\"\n",
    "prompt = ChatPromptTemplate.from_template(prompt_txt)\n",
    "\n",
    "# you can also write this as llm_chain = prompt | chatgpt\n",
    "\n",
    "llm_chain = (\n",
    "    prompt\n",
    "      |\n",
    "    chatgpt\n",
    ")"
   ]
  },
  {
   "cell_type": "code",
   "execution_count": 6,
   "metadata": {
    "id": "EXoy-gLKW9qN"
   },
   "outputs": [
    {
     "data": {
      "image/jpeg": "[encoded data removed]",
      "text/plain": [
       "<IPython.core.display.Image object>"
      ]
     },
     "metadata": {},
     "output_type": "display_data"
    }
   ],
   "source": [
    "from IPython.display import Image, display\n",
    "\n",
    "display(Image(llm_chain.get_graph().draw_mermaid_png()))"
   ]
  },
  {
   "cell_type": "code",
   "execution_count": 8,
   "metadata": {
    "id": "dMwrxRbHYynr"
   },
   "outputs": [
    {
     "name": "stdout",
     "output_type": "stream",
     "text": [
      "    +-------------+    \n",
      "    | PromptInput |    \n",
      "    +-------------+    \n",
      "           *           \n",
      "           *           \n",
      "           *           \n",
      "+--------------------+ \n",
      "| ChatPromptTemplate | \n",
      "+--------------------+ \n",
      "           *           \n",
      "           *           \n",
      "           *           \n",
      "    +------------+     \n",
      "    | ChatOpenAI |     \n",
      "    +------------+     \n",
      "           *           \n",
      "           *           \n",
      "           *           \n",
      " +------------------+  \n",
      " | ChatOpenAIOutput |  \n",
      " +------------------+  \n"
     ]
    }
   ],
   "source": [
    "print(llm_chain.get_graph().draw_ascii())"
   ]
  },
  {
   "cell_type": "code",
   "execution_count": 9,
   "metadata": {
    "id": "U7BJKifvZNYO"
   },
   "outputs": [
    {
     "data": {
      "text/plain": [
       "AIMessage(content='- **Definition and Functionality**: Generative AI refers to a class of artificial intelligence models that can create new content, such as text, images, music, or videos, by learning patterns from existing data. These models, like GPT-3 for text or DALL-E for images, use deep learning techniques to generate outputs that mimic human-like creativity.\\n\\n- **Applications**: Generative AI has a wide range of applications across various fields, including content creation (e.g., writing articles, generating art), entertainment (e.g., video game design, music composition), and even in industries like healthcare for drug discovery or personalized medicine.\\n\\n- **Ethical Considerations**: The rise of generative AI raises important ethical questions, such as issues of copyright, misinformation, and the potential for misuse in creating deepfakes or harmful content. Addressing these concerns is crucial for the responsible development and deployment of generative AI technologies.', additional_kwargs={'refusal': None}, response_metadata={'token_usage': {'completion_tokens': 187, 'prompt_tokens': 19, 'total_tokens': 206, 'completion_tokens_details': {'accepted_prediction_tokens': 0, 'audio_tokens': 0, 'reasoning_tokens': 0, 'rejected_prediction_tokens': 0}, 'prompt_tokens_details': {'audio_tokens': 0, 'cached_tokens': 0}}, 'model_name': 'gpt-4o-mini-2024-07-18', 'system_fingerprint': 'fp_0ba0d124f1', 'finish_reason': 'stop', 'logprobs': None}, id='run-cf5ac6d7-b19f-4d4b-aa59-bc8e1a3a77e3-0', usage_metadata={'input_tokens': 19, 'output_tokens': 187, 'total_tokens': 206, 'input_token_details': {'audio': 0, 'cache_read': 0}, 'output_token_details': {'audio': 0, 'reasoning': 0}})"
      ]
     },
     "execution_count": 9,
     "metadata": {},
     "output_type": "execute_result"
    }
   ],
   "source": [
    "response = llm_chain.invoke({'topic': 'Generative AI'})\n",
    "response"
   ]
  },
  {
   "cell_type": "code",
   "execution_count": 10,
   "metadata": {
    "id": "-_eErT0PZXWk"
   },
   "outputs": [
    {
     "name": "stdout",
     "output_type": "stream",
     "text": [
      "- **Definition and Functionality**: Generative AI refers to a class of artificial intelligence models that can create new content, such as text, images, music, or videos, by learning patterns from existing data. These models, like GPT-3 for text or DALL-E for images, use deep learning techniques to generate outputs that mimic human-like creativity.\n",
      "\n",
      "- **Applications**: Generative AI has a wide range of applications across various fields, including content creation (e.g., writing articles, generating art), entertainment (e.g., video game design, music composition), and even in industries like healthcare for drug discovery or personalized medicine.\n",
      "\n",
      "- **Ethical Considerations**: The rise of generative AI raises important ethical questions, such as issues of copyright, misinformation, and the potential for misuse in creating deepfakes or harmful content. Addressing these concerns is crucial for the responsible development and deployment of generative AI technologies.\n"
     ]
    }
   ],
   "source": [
    "print(response.content)"
   ]
  },
  {
   "cell_type": "markdown",
   "metadata": {
    "id": "RmnzxWuhZgwv"
   },
   "source": [
    "Adding an output parser now to just get the response as a string"
   ]
  },
  {
   "cell_type": "code",
   "execution_count": 11,
   "metadata": {
    "id": "vqXIww5vZctH"
   },
   "outputs": [],
   "source": [
    "from langchain_core.output_parsers import StrOutputParser\n",
    "\n",
    "# chain with an output parser\n",
    "llm_chain = (\n",
    "    prompt\n",
    "      |\n",
    "    chatgpt\n",
    "      |\n",
    "    StrOutputParser()\n",
    ")"
   ]
  },
  {
   "cell_type": "code",
   "execution_count": 12,
   "metadata": {
    "id": "HMO_Vz2KZ-M8"
   },
   "outputs": [
    {
     "data": {
      "image/jpeg": "[encoded data removed]",
      "text/plain": [
       "<IPython.core.display.Image object>"
      ]
     },
     "metadata": {},
     "output_type": "display_data"
    }
   ],
   "source": [
    "display(Image(llm_chain.get_graph().draw_mermaid_png()))"
   ]
  },
  {
   "cell_type": "code",
   "execution_count": 13,
   "metadata": {
    "id": "uh72M_cKa6Lk"
   },
   "outputs": [
    {
     "name": "stdout",
     "output_type": "stream",
     "text": [
      "- **Definition and Functionality**: Generative AI refers to a class of artificial intelligence models that can create new content, such as text, images, music, or videos, by learning patterns and structures from existing data. These models, like GPT-3 for text or DALL-E for images, use deep learning techniques to generate outputs that mimic human-like creativity.\n",
      "\n",
      "- **Applications**: Generative AI has a wide range of applications across various fields, including content creation (e.g., writing articles, generating art), entertainment (e.g., video game design, music composition), and even in industries like healthcare (e.g., drug discovery, medical imaging). It can enhance productivity and innovation by automating creative processes.\n",
      "\n",
      "- **Ethical Considerations**: The rise of generative AI raises important ethical questions, such as issues of copyright, misinformation, and the potential for misuse in creating deepfakes or harmful content. As a result, there is an ongoing discussion about the need for regulations and guidelines to ensure responsible use of this technology.\n"
     ]
    }
   ],
   "source": [
    "response = llm_chain.invoke({'topic': 'Generative AI'})\n",
    "print(response)"
   ]
  },
  {
   "cell_type": "code",
   "execution_count": 14,
   "metadata": {
    "id": "LPSWayj_cP-i"
   },
   "outputs": [],
   "source": [
    "reviews = [\n",
    "    f\"\"\"\n",
    "    Purchased this adorable koala plush toy for my nephew's birthday,\n",
    "    and he's absolutely smitten with it, carrying it around everywhere he goes.\n",
    "    The plush is incredibly soft, and the koala's face has an endearing expression.\n",
    "    However, I did find it a tad on the smaller side given its price point.\n",
    "    I believe there may be larger alternatives available at a similar price.\n",
    "    To my delight, it arrived a day earlier than anticipated,\n",
    "    allowing me to enjoy it briefly before gifting it to him.\n",
    "    \"\"\",\n",
    "    f\"\"\"\n",
    "    Required a stylish lamp for my office space, and this particular one\n",
    "    came with added storage at a reasonable price.\n",
    "    The delivery was surprisingly quick, arriving within just two days.\n",
    "    However, the pull string for the lamp suffered damage during transit.\n",
    "    To my relief, the company promptly dispatched a replacement,\n",
    "    which arrived within a few days. Assembly was a breeze.\n",
    "    Then, I encountered an issue with a missing component,\n",
    "    but their support team responded swiftly and provided the missing part.\n",
    "    It appears to be a commendable company that genuinely values its\n",
    "    customers and the quality of its products.\n",
    "    \"\"\"\n",
    "    ]"
   ]
  },
  {
   "cell_type": "code",
   "execution_count": 15,
   "metadata": {
    "id": "90dSQ0yciLQa"
   },
   "outputs": [],
   "source": [
    "from langchain_core.prompts import ChatPromptTemplate\n",
    "\n",
    "prompt = \"\"\"\n",
    "            Act as a product review analyst.\n",
    "            Your task is to generate a short summary of a product\n",
    "            review from an ecommerce site.\n",
    "\n",
    "            Generate a summary of the review (max 2 lines)\n",
    "            Also show both the positives and negatives from the review (max 2 bullets)\n",
    "\n",
    "            ```{review}```\n",
    "\"\"\"\n",
    "\n",
    "prompt_template = ChatPromptTemplate.from_template(prompt)\n",
    "llm_chain = (\n",
    "    prompt_template\n",
    "      |\n",
    "    chatgpt\n",
    "      |\n",
    "    StrOutputParser()\n",
    ")"
   ]
  },
  {
   "cell_type": "code",
   "execution_count": 16,
   "metadata": {
    "id": "0SjsgsUdiibW"
   },
   "outputs": [],
   "source": [
    "result = llm_chain.invoke({'review': reviews[0]})"
   ]
  },
  {
   "cell_type": "code",
   "execution_count": 17,
   "metadata": {
    "id": "lL0EKbgXivEj"
   },
   "outputs": [
    {
     "data": {
      "text/plain": [
       "\"**Summary:** The koala plush toy is a hit with the buyer's nephew, praised for its softness and cute design, though its size relative to the price is a concern.\\n\\n**Positives:**\\n- Incredibly soft and endearing design.\\n- Arrived earlier than expected.\\n\\n**Negatives:**\\n- Smaller than anticipated for the price.\\n- Potentially larger alternatives available.\""
      ]
     },
     "execution_count": 17,
     "metadata": {},
     "output_type": "execute_result"
    }
   ],
   "source": [
    "result"
   ]
  },
  {
   "cell_type": "code",
   "execution_count": 18,
   "metadata": {
    "id": "2WsezaGqi00W"
   },
   "outputs": [
    {
     "name": "stdout",
     "output_type": "stream",
     "text": [
      "**Summary:** The koala plush toy is a hit with the buyer's nephew, praised for its softness and cute design, though its size relative to the price is a concern.\n",
      "\n",
      "**Positives:**\n",
      "- Incredibly soft and endearing design.\n",
      "- Arrived earlier than expected.\n",
      "\n",
      "**Negatives:**\n",
      "- Smaller than anticipated for the price.\n",
      "- Potentially larger alternatives available.\n"
     ]
    }
   ],
   "source": [
    "print(result)"
   ]
  },
  {
   "cell_type": "code",
   "execution_count": 19,
   "metadata": {
    "id": "KNLieaWvi2XQ"
   },
   "outputs": [
    {
     "data": {
      "text/plain": [
       "2"
      ]
     },
     "execution_count": 19,
     "metadata": {},
     "output_type": "execute_result"
    }
   ],
   "source": [
    "formatted_reviews = [{'review': review}\n",
    "                        for review in reviews]\n",
    "\n",
    "results = llm_chain.map().invoke(formatted_reviews)\n",
    "len(results)"
   ]
  },
  {
   "cell_type": "code",
   "execution_count": 20,
   "metadata": {
    "id": "AtaDS_IXjhRw"
   },
   "outputs": [
    {
     "name": "stdout",
     "output_type": "stream",
     "text": [
      "**Summary:** The koala plush toy is a hit with the buyer's nephew, praised for its softness and cute design, though its size relative to the price is a concern.\n",
      "\n",
      "**Positives:**\n",
      "- Incredibly soft and endearing design.\n",
      "- Arrived earlier than expected.\n",
      "\n",
      "**Negatives:**\n",
      "- Smaller than anticipated for the price.\n",
      "- Potentially larger alternatives available.\n",
      "\n",
      "**Summary:** A stylish and functional lamp with quick delivery and excellent customer support, though it had initial issues with damaged and missing components.\n",
      "\n",
      "**Positives:**\n",
      "- Quick delivery and easy assembly.\n",
      "- Responsive customer support that promptly addressed issues.\n",
      "\n",
      "**Negatives:**\n",
      "- Pull string was damaged during transit.\n",
      "- Missing component required additional support intervention.\n",
      "\n"
     ]
    }
   ],
   "source": [
    "for result in results:\n",
    "    print(result)\n",
    "    print()"
   ]
  }
 ],
 "metadata": {
  "colab": {
   "provenance": []
  },
  "kernelspec": {
   "display_name": "Python 3 (ipykernel)",
   "language": "python",
   "name": "python3"
  },
  "language_info": {
   "codemirror_mode": {
    "name": "ipython",
    "version": 3
   },
   "file_extension": ".py",
   "mimetype": "text/x-python",
   "name": "python",
   "nbconvert_exporter": "python",
   "pygments_lexer": "ipython3",
   "version": "3.11.7"
  }
 },
 "nbformat": 4,
 "nbformat_minor": 4
}
